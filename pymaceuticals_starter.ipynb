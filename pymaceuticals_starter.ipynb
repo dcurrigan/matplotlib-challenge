{
 "cells": [
  {
   "cell_type": "markdown",
   "metadata": {},
   "source": [
    "## Observations and Insights "
   ]
  },
  {
   "cell_type": "markdown",
   "metadata": {},
   "source": []
  },
  {
   "cell_type": "code",
   "execution_count": 269,
   "metadata": {},
   "outputs": [
    {
     "data": {
      "text/html": [
       "<div>\n",
       "<style scoped>\n",
       "    .dataframe tbody tr th:only-of-type {\n",
       "        vertical-align: middle;\n",
       "    }\n",
       "\n",
       "    .dataframe tbody tr th {\n",
       "        vertical-align: top;\n",
       "    }\n",
       "\n",
       "    .dataframe thead th {\n",
       "        text-align: right;\n",
       "    }\n",
       "</style>\n",
       "<table border=\"1\" class=\"dataframe\">\n",
       "  <thead>\n",
       "    <tr style=\"text-align: right;\">\n",
       "      <th></th>\n",
       "      <th>Mouse ID</th>\n",
       "      <th>Drug Regimen</th>\n",
       "      <th>Sex</th>\n",
       "      <th>Age_months</th>\n",
       "      <th>Weight (g)</th>\n",
       "      <th>Timepoint</th>\n",
       "      <th>Tumor Volume (mm3)</th>\n",
       "      <th>Metastatic Sites</th>\n",
       "    </tr>\n",
       "  </thead>\n",
       "  <tbody>\n",
       "    <tr>\n",
       "      <th>0</th>\n",
       "      <td>k403</td>\n",
       "      <td>Ramicane</td>\n",
       "      <td>Male</td>\n",
       "      <td>21</td>\n",
       "      <td>16</td>\n",
       "      <td>0</td>\n",
       "      <td>45.000000</td>\n",
       "      <td>0</td>\n",
       "    </tr>\n",
       "    <tr>\n",
       "      <th>1</th>\n",
       "      <td>k403</td>\n",
       "      <td>Ramicane</td>\n",
       "      <td>Male</td>\n",
       "      <td>21</td>\n",
       "      <td>16</td>\n",
       "      <td>5</td>\n",
       "      <td>38.825898</td>\n",
       "      <td>0</td>\n",
       "    </tr>\n",
       "    <tr>\n",
       "      <th>2</th>\n",
       "      <td>k403</td>\n",
       "      <td>Ramicane</td>\n",
       "      <td>Male</td>\n",
       "      <td>21</td>\n",
       "      <td>16</td>\n",
       "      <td>10</td>\n",
       "      <td>35.014271</td>\n",
       "      <td>1</td>\n",
       "    </tr>\n",
       "    <tr>\n",
       "      <th>3</th>\n",
       "      <td>k403</td>\n",
       "      <td>Ramicane</td>\n",
       "      <td>Male</td>\n",
       "      <td>21</td>\n",
       "      <td>16</td>\n",
       "      <td>15</td>\n",
       "      <td>34.223992</td>\n",
       "      <td>1</td>\n",
       "    </tr>\n",
       "    <tr>\n",
       "      <th>4</th>\n",
       "      <td>k403</td>\n",
       "      <td>Ramicane</td>\n",
       "      <td>Male</td>\n",
       "      <td>21</td>\n",
       "      <td>16</td>\n",
       "      <td>20</td>\n",
       "      <td>32.997729</td>\n",
       "      <td>1</td>\n",
       "    </tr>\n",
       "  </tbody>\n",
       "</table>\n",
       "</div>"
      ],
      "text/plain": [
       "  Mouse ID Drug Regimen   Sex  Age_months  Weight (g)  Timepoint  \\\n",
       "0     k403     Ramicane  Male          21          16          0   \n",
       "1     k403     Ramicane  Male          21          16          5   \n",
       "2     k403     Ramicane  Male          21          16         10   \n",
       "3     k403     Ramicane  Male          21          16         15   \n",
       "4     k403     Ramicane  Male          21          16         20   \n",
       "\n",
       "   Tumor Volume (mm3)  Metastatic Sites  \n",
       "0           45.000000                 0  \n",
       "1           38.825898                 0  \n",
       "2           35.014271                 1  \n",
       "3           34.223992                 1  \n",
       "4           32.997729                 1  "
      ]
     },
     "execution_count": 269,
     "metadata": {},
     "output_type": "execute_result"
    }
   ],
   "source": [
    "# Dependencies and Setup\n",
    "import matplotlib.pyplot as plt\n",
    "import pandas as pd\n",
    "import numpy as np\n",
    "import scipy.stats as st\n",
    "from scipy.stats import linregress\n",
    "\n",
    "\n",
    "# Study data files\n",
    "mouse_metadata_path = \"data/Mouse_metadata.csv\"\n",
    "study_results_path = \"data/Study_results.csv\"\n",
    "\n",
    "# Read the mouse data and the study results\n",
    "mouse_metadata = pd.read_csv(mouse_metadata_path)\n",
    "study_results = pd.read_csv(study_results_path)\n",
    "\n",
    "# # Combine the data into a single dataset\n",
    "df = pd.merge(mouse_metadata, study_results, on=\"Mouse ID\" )\n",
    "df.to_csv(\"test_data.csv\")\n",
    "# Display the data table for preview\n",
    "df.head()"
   ]
  },
  {
   "cell_type": "code",
   "execution_count": 218,
   "metadata": {},
   "outputs": [
    {
     "name": "stdout",
     "output_type": "stream",
     "text": [
      "Number of unique mice is: 249\n"
     ]
    }
   ],
   "source": [
    "# Checking the number of mice.\n",
    "unique_mice = df['Mouse ID'].unique()\n",
    "num_unique_mice = len(df['Mouse ID'].unique())\n",
    "\n",
    "print(f\"Number of unique mice is: {num_unique_mice}\")"
   ]
  },
  {
   "cell_type": "code",
   "execution_count": 219,
   "metadata": {},
   "outputs": [
    {
     "name": "stdout",
     "output_type": "stream",
     "text": [
      "Mouse ID with duplicate time points: ['g989']\n"
     ]
    }
   ],
   "source": [
    "# Getting the duplicate mice by ID number that shows up for Mouse ID and Timepoint. \n",
    "\n",
    "# Iterate through each mouses data  \n",
    "# If there are no duplicates then the index length and unique timepoints length should be the same  \n",
    " \n",
    "duplicate_ids = []\n",
    "for mouse in unique_mice:\n",
    "    \n",
    "    mouse_data = df[df[\"Mouse ID\"] == mouse]\n",
    "    if len(mouse_data.index) != len(mouse_data[\"Timepoint\"].unique()):\n",
    "        duplicate_ids.append(mouse)\n",
    "               \n",
    "print(f\"Mouse ID with duplicate time points: {duplicate_ids}\")\n"
   ]
  },
  {
   "cell_type": "code",
   "execution_count": 220,
   "metadata": {},
   "outputs": [
    {
     "name": "stdout",
     "output_type": "stream",
     "text": [
      "Data removed from the the main data set due to duplicate time points:\n"
     ]
    },
    {
     "data": {
      "text/html": [
       "<div>\n",
       "<style scoped>\n",
       "    .dataframe tbody tr th:only-of-type {\n",
       "        vertical-align: middle;\n",
       "    }\n",
       "\n",
       "    .dataframe tbody tr th {\n",
       "        vertical-align: top;\n",
       "    }\n",
       "\n",
       "    .dataframe thead th {\n",
       "        text-align: right;\n",
       "    }\n",
       "</style>\n",
       "<table border=\"1\" class=\"dataframe\">\n",
       "  <thead>\n",
       "    <tr style=\"text-align: right;\">\n",
       "      <th></th>\n",
       "      <th>Mouse ID</th>\n",
       "      <th>Drug Regimen</th>\n",
       "      <th>Sex</th>\n",
       "      <th>Age_months</th>\n",
       "      <th>Weight (g)</th>\n",
       "      <th>Timepoint</th>\n",
       "      <th>Tumor Volume (mm3)</th>\n",
       "      <th>Metastatic Sites</th>\n",
       "    </tr>\n",
       "  </thead>\n",
       "  <tbody>\n",
       "    <tr>\n",
       "      <th>908</th>\n",
       "      <td>g989</td>\n",
       "      <td>Propriva</td>\n",
       "      <td>Female</td>\n",
       "      <td>21</td>\n",
       "      <td>26</td>\n",
       "      <td>0</td>\n",
       "      <td>45.000000</td>\n",
       "      <td>0</td>\n",
       "    </tr>\n",
       "    <tr>\n",
       "      <th>909</th>\n",
       "      <td>g989</td>\n",
       "      <td>Propriva</td>\n",
       "      <td>Female</td>\n",
       "      <td>21</td>\n",
       "      <td>26</td>\n",
       "      <td>0</td>\n",
       "      <td>45.000000</td>\n",
       "      <td>0</td>\n",
       "    </tr>\n",
       "    <tr>\n",
       "      <th>910</th>\n",
       "      <td>g989</td>\n",
       "      <td>Propriva</td>\n",
       "      <td>Female</td>\n",
       "      <td>21</td>\n",
       "      <td>26</td>\n",
       "      <td>5</td>\n",
       "      <td>48.786801</td>\n",
       "      <td>0</td>\n",
       "    </tr>\n",
       "    <tr>\n",
       "      <th>911</th>\n",
       "      <td>g989</td>\n",
       "      <td>Propriva</td>\n",
       "      <td>Female</td>\n",
       "      <td>21</td>\n",
       "      <td>26</td>\n",
       "      <td>5</td>\n",
       "      <td>47.570392</td>\n",
       "      <td>0</td>\n",
       "    </tr>\n",
       "    <tr>\n",
       "      <th>912</th>\n",
       "      <td>g989</td>\n",
       "      <td>Propriva</td>\n",
       "      <td>Female</td>\n",
       "      <td>21</td>\n",
       "      <td>26</td>\n",
       "      <td>10</td>\n",
       "      <td>51.745156</td>\n",
       "      <td>0</td>\n",
       "    </tr>\n",
       "    <tr>\n",
       "      <th>913</th>\n",
       "      <td>g989</td>\n",
       "      <td>Propriva</td>\n",
       "      <td>Female</td>\n",
       "      <td>21</td>\n",
       "      <td>26</td>\n",
       "      <td>10</td>\n",
       "      <td>49.880528</td>\n",
       "      <td>0</td>\n",
       "    </tr>\n",
       "    <tr>\n",
       "      <th>914</th>\n",
       "      <td>g989</td>\n",
       "      <td>Propriva</td>\n",
       "      <td>Female</td>\n",
       "      <td>21</td>\n",
       "      <td>26</td>\n",
       "      <td>15</td>\n",
       "      <td>51.325852</td>\n",
       "      <td>1</td>\n",
       "    </tr>\n",
       "    <tr>\n",
       "      <th>915</th>\n",
       "      <td>g989</td>\n",
       "      <td>Propriva</td>\n",
       "      <td>Female</td>\n",
       "      <td>21</td>\n",
       "      <td>26</td>\n",
       "      <td>15</td>\n",
       "      <td>53.442020</td>\n",
       "      <td>0</td>\n",
       "    </tr>\n",
       "    <tr>\n",
       "      <th>916</th>\n",
       "      <td>g989</td>\n",
       "      <td>Propriva</td>\n",
       "      <td>Female</td>\n",
       "      <td>21</td>\n",
       "      <td>26</td>\n",
       "      <td>20</td>\n",
       "      <td>55.326122</td>\n",
       "      <td>1</td>\n",
       "    </tr>\n",
       "    <tr>\n",
       "      <th>917</th>\n",
       "      <td>g989</td>\n",
       "      <td>Propriva</td>\n",
       "      <td>Female</td>\n",
       "      <td>21</td>\n",
       "      <td>26</td>\n",
       "      <td>20</td>\n",
       "      <td>54.657650</td>\n",
       "      <td>1</td>\n",
       "    </tr>\n",
       "    <tr>\n",
       "      <th>918</th>\n",
       "      <td>g989</td>\n",
       "      <td>Propriva</td>\n",
       "      <td>Female</td>\n",
       "      <td>21</td>\n",
       "      <td>26</td>\n",
       "      <td>25</td>\n",
       "      <td>56.045564</td>\n",
       "      <td>1</td>\n",
       "    </tr>\n",
       "    <tr>\n",
       "      <th>919</th>\n",
       "      <td>g989</td>\n",
       "      <td>Propriva</td>\n",
       "      <td>Female</td>\n",
       "      <td>21</td>\n",
       "      <td>26</td>\n",
       "      <td>30</td>\n",
       "      <td>59.082294</td>\n",
       "      <td>1</td>\n",
       "    </tr>\n",
       "    <tr>\n",
       "      <th>920</th>\n",
       "      <td>g989</td>\n",
       "      <td>Propriva</td>\n",
       "      <td>Female</td>\n",
       "      <td>21</td>\n",
       "      <td>26</td>\n",
       "      <td>35</td>\n",
       "      <td>62.570880</td>\n",
       "      <td>2</td>\n",
       "    </tr>\n",
       "  </tbody>\n",
       "</table>\n",
       "</div>"
      ],
      "text/plain": [
       "    Mouse ID Drug Regimen     Sex  Age_months  Weight (g)  Timepoint  \\\n",
       "908     g989     Propriva  Female          21          26          0   \n",
       "909     g989     Propriva  Female          21          26          0   \n",
       "910     g989     Propriva  Female          21          26          5   \n",
       "911     g989     Propriva  Female          21          26          5   \n",
       "912     g989     Propriva  Female          21          26         10   \n",
       "913     g989     Propriva  Female          21          26         10   \n",
       "914     g989     Propriva  Female          21          26         15   \n",
       "915     g989     Propriva  Female          21          26         15   \n",
       "916     g989     Propriva  Female          21          26         20   \n",
       "917     g989     Propriva  Female          21          26         20   \n",
       "918     g989     Propriva  Female          21          26         25   \n",
       "919     g989     Propriva  Female          21          26         30   \n",
       "920     g989     Propriva  Female          21          26         35   \n",
       "\n",
       "     Tumor Volume (mm3)  Metastatic Sites  \n",
       "908           45.000000                 0  \n",
       "909           45.000000                 0  \n",
       "910           48.786801                 0  \n",
       "911           47.570392                 0  \n",
       "912           51.745156                 0  \n",
       "913           49.880528                 0  \n",
       "914           51.325852                 1  \n",
       "915           53.442020                 0  \n",
       "916           55.326122                 1  \n",
       "917           54.657650                 1  \n",
       "918           56.045564                 1  \n",
       "919           59.082294                 1  \n",
       "920           62.570880                 2  "
      ]
     },
     "metadata": {},
     "output_type": "display_data"
    }
   ],
   "source": [
    "# Optional: Get all the data for the duplicate mouse ID. \n",
    "removed_data = pd.DataFrame()\n",
    "for ids in duplicate_ids:\n",
    "    removed_data = removed_data.append(df[df ['Mouse ID'] == ids], sort=False)\n",
    "\n",
    "print(\"Data removed from the the main data set due to duplicate time points:\")\n",
    "display(removed_data)\n"
   ]
  },
  {
   "cell_type": "code",
   "execution_count": 221,
   "metadata": {},
   "outputs": [
    {
     "name": "stdout",
     "output_type": "stream",
     "text": [
      "Data with duplicate timepoints has now been removed from the main DataFrame\n"
     ]
    }
   ],
   "source": [
    "# Create a clean DataFrame by dropping the duplicate mouse by its ID.\n",
    "for ids in duplicate_ids:\n",
    "    df = df[df ['Mouse ID'] != ids]\n",
    "\n",
    "print(\"Data with duplicate timepoints has now been removed from the main DataFrame\")\n",
    "    "
   ]
  },
  {
   "cell_type": "code",
   "execution_count": 75,
   "metadata": {},
   "outputs": [
    {
     "name": "stdout",
     "output_type": "stream",
     "text": [
      "Number of unique mice in the clean DataFrame is: 248\n",
      "\n"
     ]
    }
   ],
   "source": [
    "# Checking the number of mice in the clean DataFrame.\n",
    "# Checking the number of mice.\n",
    "unique_mice = df['Mouse ID'].unique()\n",
    "num_unique_mice = len(df['Mouse ID'].unique())\n",
    "\n",
    "print(f\"Number of unique mice in the clean DataFrame is: {num_unique_mice}\")\n",
    "print(\"\")"
   ]
  },
  {
   "cell_type": "markdown",
   "metadata": {},
   "source": [
    "## Summary Statistics"
   ]
  },
  {
   "cell_type": "code",
   "execution_count": 223,
   "metadata": {},
   "outputs": [
    {
     "name": "stdout",
     "output_type": "stream",
     "text": [
      "\n",
      "Summary stats for tumor volume (units = mm3), for each drug regimen:\n"
     ]
    },
    {
     "data": {
      "text/html": [
       "<div>\n",
       "<style scoped>\n",
       "    .dataframe tbody tr th:only-of-type {\n",
       "        vertical-align: middle;\n",
       "    }\n",
       "\n",
       "    .dataframe tbody tr th {\n",
       "        vertical-align: top;\n",
       "    }\n",
       "\n",
       "    .dataframe thead th {\n",
       "        text-align: right;\n",
       "    }\n",
       "</style>\n",
       "<table border=\"1\" class=\"dataframe\">\n",
       "  <thead>\n",
       "    <tr style=\"text-align: right;\">\n",
       "      <th></th>\n",
       "      <th>Drug Regimen</th>\n",
       "      <th>Mean</th>\n",
       "      <th>Median</th>\n",
       "      <th>Std_Dev</th>\n",
       "      <th>SEM</th>\n",
       "    </tr>\n",
       "  </thead>\n",
       "  <tbody>\n",
       "    <tr>\n",
       "      <th>0</th>\n",
       "      <td>Capomulin</td>\n",
       "      <td>40.6757</td>\n",
       "      <td>41.5578</td>\n",
       "      <td>4.9948</td>\n",
       "      <td>0.3293</td>\n",
       "    </tr>\n",
       "    <tr>\n",
       "      <th>1</th>\n",
       "      <td>Ceftamin</td>\n",
       "      <td>52.5912</td>\n",
       "      <td>51.7762</td>\n",
       "      <td>6.2682</td>\n",
       "      <td>0.4698</td>\n",
       "    </tr>\n",
       "    <tr>\n",
       "      <th>2</th>\n",
       "      <td>Infubinol</td>\n",
       "      <td>52.8848</td>\n",
       "      <td>51.8206</td>\n",
       "      <td>6.5672</td>\n",
       "      <td>0.4922</td>\n",
       "    </tr>\n",
       "    <tr>\n",
       "      <th>3</th>\n",
       "      <td>Ketapril</td>\n",
       "      <td>55.2356</td>\n",
       "      <td>53.6987</td>\n",
       "      <td>8.2797</td>\n",
       "      <td>0.6039</td>\n",
       "    </tr>\n",
       "    <tr>\n",
       "      <th>4</th>\n",
       "      <td>Naftisol</td>\n",
       "      <td>54.3316</td>\n",
       "      <td>52.5093</td>\n",
       "      <td>8.1347</td>\n",
       "      <td>0.5965</td>\n",
       "    </tr>\n",
       "    <tr>\n",
       "      <th>5</th>\n",
       "      <td>Placebo</td>\n",
       "      <td>54.0336</td>\n",
       "      <td>52.2889</td>\n",
       "      <td>7.8210</td>\n",
       "      <td>0.5813</td>\n",
       "    </tr>\n",
       "    <tr>\n",
       "      <th>6</th>\n",
       "      <td>Propriva</td>\n",
       "      <td>52.3209</td>\n",
       "      <td>50.4463</td>\n",
       "      <td>6.6221</td>\n",
       "      <td>0.5443</td>\n",
       "    </tr>\n",
       "    <tr>\n",
       "      <th>7</th>\n",
       "      <td>Ramicane</td>\n",
       "      <td>40.2167</td>\n",
       "      <td>40.6732</td>\n",
       "      <td>4.8463</td>\n",
       "      <td>0.3210</td>\n",
       "    </tr>\n",
       "    <tr>\n",
       "      <th>8</th>\n",
       "      <td>Stelasyn</td>\n",
       "      <td>54.2331</td>\n",
       "      <td>52.4317</td>\n",
       "      <td>7.7104</td>\n",
       "      <td>0.5731</td>\n",
       "    </tr>\n",
       "    <tr>\n",
       "      <th>9</th>\n",
       "      <td>Zoniferol</td>\n",
       "      <td>53.2365</td>\n",
       "      <td>51.8185</td>\n",
       "      <td>6.9666</td>\n",
       "      <td>0.5164</td>\n",
       "    </tr>\n",
       "  </tbody>\n",
       "</table>\n",
       "</div>"
      ],
      "text/plain": [
       "  Drug Regimen     Mean   Median  Std_Dev     SEM\n",
       "0    Capomulin  40.6757  41.5578   4.9948  0.3293\n",
       "1     Ceftamin  52.5912  51.7762   6.2682  0.4698\n",
       "2    Infubinol  52.8848  51.8206   6.5672  0.4922\n",
       "3     Ketapril  55.2356  53.6987   8.2797  0.6039\n",
       "4     Naftisol  54.3316  52.5093   8.1347  0.5965\n",
       "5      Placebo  54.0336  52.2889   7.8210  0.5813\n",
       "6     Propriva  52.3209  50.4463   6.6221  0.5443\n",
       "7     Ramicane  40.2167  40.6732   4.8463  0.3210\n",
       "8     Stelasyn  54.2331  52.4317   7.7104  0.5731\n",
       "9    Zoniferol  53.2365  51.8185   6.9666  0.5164"
      ]
     },
     "execution_count": 223,
     "metadata": {},
     "output_type": "execute_result"
    }
   ],
   "source": [
    "# Generate a summary statistics table of mean, median, variance, standard deviation, and SEM of the tumor volume for each regimen\n",
    "summary_stats = df.groupby('Drug Regimen').agg(Mean=('Tumor Volume (mm3)', 'mean'), Median=('Tumor Volume (mm3)', 'median'),\n",
    "                                               Std_Dev=('Tumor Volume (mm3)', 'std'), SEM=('Tumor Volume (mm3)', 'sem'))\n",
    "\n",
    "# Format and display\n",
    "summary_stats.iloc[:,0:] = round(summary_stats.iloc[:,0:],4)\n",
    "print(\"\")\n",
    "print(\"Summary stats for tumor volume (units = mm3), for each drug regimen:\")\n",
    "summary_stats.reset_index()"
   ]
  },
  {
   "cell_type": "markdown",
   "metadata": {},
   "source": [
    "## Bar and Pie Charts"
   ]
  },
  {
   "cell_type": "code",
   "execution_count": 225,
   "metadata": {},
   "outputs": [
    {
     "data": {
      "image/png": "[encoded data removed]",
      "text/plain": [
       "<Figure size 864x576 with 1 Axes>"
      ]
     },
     "metadata": {
      "needs_background": "light"
     },
     "output_type": "display_data"
    }
   ],
   "source": [
    "# -- BAR PLOT USING PANDAS -- #\n",
    "\n",
    "# Create a dataframe with only the unique Timepoints\n",
    "plot_data = pd.DataFrame({\"Timepoint\":df['Timepoint'].unique()})\n",
    "\n",
    "# Iterate throught the drug regimens, grouping their data by timepoint and counting number of mice\n",
    "for treatment in df['Drug Regimen'].unique():\n",
    "    data = df[df['Drug Regimen'] == treatment].groupby(['Timepoint'])['Mouse ID'].nunique().reset_index()\n",
    "    plot_data[treatment] = data['Mouse ID']\n",
    "\n",
    "# Plot the resulting DataFrame using Pandas.plot\n",
    "mouse_plot = plot_data.plot.bar(x=\"Timepoint\", figsize=(12,8), rot=\"horizontal\", width=0.8, alpha=0.85,\n",
    "                                legend=True, title=\"Mouse Count for Each Drug Regimen Over Course of the Study \")\n",
    "\n",
    "plt.tight_layout()\n",
    "plt.legend(ncol=2)\n",
    "plt.show()\n",
    "\n"
   ]
  },
  {
   "cell_type": "code",
   "execution_count": 227,
   "metadata": {},
   "outputs": [
    {
     "data": {
      "image/png": "[encoded data removed]",
      "text/plain": [
       "<Figure size 864x576 with 1 Axes>"
      ]
     },
     "metadata": {
      "needs_background": "light"
     },
     "output_type": "display_data"
    }
   ],
   "source": [
    "# -- BAR PLOT USING PYPLOT -- #\n",
    "\n",
    "# x-axis set to the unique values in the 'Timepoint' column of the plot_data DataFrame\n",
    "x_axis = plot_data['Timepoint'].unique()\n",
    "# width of each bar specified (needed for spacing of bars)\n",
    "bar_width = 0.4\n",
    "\n",
    "# PLOT THE BARS\n",
    "fig, ax = plt.subplots(figsize=(12,8))\n",
    "\n",
    "# Iterate through columns of plot_data (each colulmn is a different drug regimen)\n",
    "#   plot that drug regimens data, allowing for a spacing (= to bar_width) so that bars don't overlap \n",
    "for col in range(1, len(plot_data.columns)):\n",
    "    ax.bar([x + (bar_width*col) for x in x_axis], plot_data.iloc[:,col], width=0.4, alpha=0.85, label=plot_data.columns[col])\n",
    " \n",
    "# FORMATTING AND DISPLAY\n",
    "ax.legend(ncol=2)\n",
    "plt.xlabel(\"Timepoint\")\n",
    "plt.ylabel(\"Mouse Count\")\n",
    "plt.title(\"Mouse Count for Each Drug Regimen Over Course of the Study \")\n",
    "plt.xlim()\n",
    "plt.xticks(ticks=(x_axis+2.2), labels=plot_data['Timepoint'].unique())\n",
    "plt.xlim(min(x_axis)-(bar_width*3), max(x_axis)+bar_width*14)\n",
    "plt.tight_layout()\n",
    "plt.show()"
   ]
  },
  {
   "cell_type": "code",
   "execution_count": 229,
   "metadata": {},
   "outputs": [
    {
     "data": {
      "image/png": "[encoded data removed]",
      "text/plain": [
       "<Figure size 720x720 with 1 Axes>"
      ]
     },
     "metadata": {},
     "output_type": "display_data"
    }
   ],
   "source": [
    "# -- PIE PLOT USING PANDAS -- #\n",
    "\n",
    "# Group data by sex using Pandas groupby\n",
    "plot_data_2 = df.groupby(['Sex']).count()\n",
    "\n",
    "# Plot the data as a Pandas plot pie chart\n",
    "plot = plot_data_2.plot.pie(y='Mouse ID', startangle=45, figsize=(10,10), \n",
    "                            autopct='%1.1f%%', shadow=True, title=\"Male vs Female Mouse Count\",\n",
    "                            # determine element that has the greatest value and apply explode \n",
    "                            # This statement returns an array of booleans which is multipled by the explode factor \n",
    "                            explode=(plot_data_2['Mouse ID'] == max(plot_data_2['Mouse ID'])) * 0.1)\n",
    "\n",
    "plt.axis(\"equal\")\n",
    "plt.show()\n"
   ]
  },
  {
   "cell_type": "code",
   "execution_count": 230,
   "metadata": {},
   "outputs": [
    {
     "data": {
      "image/png": "[encoded data removed]",
      "text/plain": [
       "<Figure size 720x720 with 1 Axes>"
      ]
     },
     "metadata": {},
     "output_type": "display_data"
    }
   ],
   "source": [
    "# -- PIE PLOT USING PYPLOT -- #\n",
    "\n",
    "plt.subplots(figsize=(10,10))\n",
    "\n",
    "plot_2 = plt.pie(plot_data_2['Mouse ID'], labels=plot_data_2.index, startangle=45, \n",
    "         autopct='%1.1f%%', shadow=True,\n",
    "         # determine element that has the greatest value and apply explode \n",
    "         # This statement returns an array of booleans which is multipled by the explode factor \n",
    "         explode=(plot_data_2['Mouse ID'] == max(plot_data_2['Mouse ID'])) * 0.1)\n",
    "\n",
    "plt.legend()\n",
    "plt.title(\"Male vs Female Mouse Count\")\n",
    "plt.axis(\"equal\")\n",
    "plt.show()\n",
    "\n",
    "\n"
   ]
  },
  {
   "cell_type": "code",
   "execution_count": 236,
   "metadata": {},
   "outputs": [
    {
     "data": {
      "text/plain": [
       "100"
      ]
     },
     "execution_count": 236,
     "metadata": {},
     "output_type": "execute_result"
    }
   ],
   "source": [
    "len(df2[\"Mouse ID\"].unique())"
   ]
  },
  {
   "cell_type": "markdown",
   "metadata": {},
   "source": [
    "## Quartiles, Outliers and Boxplots"
   ]
  },
  {
   "cell_type": "code",
   "execution_count": 237,
   "metadata": {},
   "outputs": [
    {
     "data": {
      "text/html": [
       "<div>\n",
       "<style scoped>\n",
       "    .dataframe tbody tr th:only-of-type {\n",
       "        vertical-align: middle;\n",
       "    }\n",
       "\n",
       "    .dataframe tbody tr th {\n",
       "        vertical-align: top;\n",
       "    }\n",
       "\n",
       "    .dataframe thead th {\n",
       "        text-align: right;\n",
       "    }\n",
       "</style>\n",
       "<table border=\"1\" class=\"dataframe\">\n",
       "  <thead>\n",
       "    <tr style=\"text-align: right;\">\n",
       "      <th></th>\n",
       "      <th>Mouse ID</th>\n",
       "      <th>Drug Regimen</th>\n",
       "      <th>Final Tumor Vol</th>\n",
       "      <th>Final Time point</th>\n",
       "    </tr>\n",
       "  </thead>\n",
       "  <tbody>\n",
       "    <tr>\n",
       "      <th>32</th>\n",
       "      <td>j246</td>\n",
       "      <td>Capomulin</td>\n",
       "      <td>38.753265</td>\n",
       "      <td>35</td>\n",
       "    </tr>\n",
       "    <tr>\n",
       "      <th>36</th>\n",
       "      <td>v923</td>\n",
       "      <td>Capomulin</td>\n",
       "      <td>40.658124</td>\n",
       "      <td>45</td>\n",
       "    </tr>\n",
       "    <tr>\n",
       "      <th>35</th>\n",
       "      <td>w150</td>\n",
       "      <td>Capomulin</td>\n",
       "      <td>39.952347</td>\n",
       "      <td>10</td>\n",
       "    </tr>\n",
       "    <tr>\n",
       "      <th>34</th>\n",
       "      <td>j119</td>\n",
       "      <td>Capomulin</td>\n",
       "      <td>38.125164</td>\n",
       "      <td>45</td>\n",
       "    </tr>\n",
       "    <tr>\n",
       "      <th>39</th>\n",
       "      <td>l509</td>\n",
       "      <td>Capomulin</td>\n",
       "      <td>41.483008</td>\n",
       "      <td>45</td>\n",
       "    </tr>\n",
       "    <tr>\n",
       "      <th>...</th>\n",
       "      <td>...</td>\n",
       "      <td>...</td>\n",
       "      <td>...</td>\n",
       "      <td>...</td>\n",
       "    </tr>\n",
       "    <tr>\n",
       "      <th>46</th>\n",
       "      <td>r921</td>\n",
       "      <td>Ramicane</td>\n",
       "      <td>43.419381</td>\n",
       "      <td>30</td>\n",
       "    </tr>\n",
       "    <tr>\n",
       "      <th>47</th>\n",
       "      <td>w678</td>\n",
       "      <td>Ramicane</td>\n",
       "      <td>43.166373</td>\n",
       "      <td>5</td>\n",
       "    </tr>\n",
       "    <tr>\n",
       "      <th>48</th>\n",
       "      <td>y449</td>\n",
       "      <td>Ramicane</td>\n",
       "      <td>44.183451</td>\n",
       "      <td>15</td>\n",
       "    </tr>\n",
       "    <tr>\n",
       "      <th>23</th>\n",
       "      <td>r811</td>\n",
       "      <td>Ramicane</td>\n",
       "      <td>37.225650</td>\n",
       "      <td>45</td>\n",
       "    </tr>\n",
       "    <tr>\n",
       "      <th>0</th>\n",
       "      <td>k403</td>\n",
       "      <td>Ramicane</td>\n",
       "      <td>22.050126</td>\n",
       "      <td>45</td>\n",
       "    </tr>\n",
       "  </tbody>\n",
       "</table>\n",
       "<p>100 rows × 4 columns</p>\n",
       "</div>"
      ],
      "text/plain": [
       "   Mouse ID Drug Regimen  Final Tumor Vol  Final Time point\n",
       "32     j246    Capomulin        38.753265                35\n",
       "36     v923    Capomulin        40.658124                45\n",
       "35     w150    Capomulin        39.952347                10\n",
       "34     j119    Capomulin        38.125164                45\n",
       "39     l509    Capomulin        41.483008                45\n",
       "..      ...          ...              ...               ...\n",
       "46     r921     Ramicane        43.419381                30\n",
       "47     w678     Ramicane        43.166373                 5\n",
       "48     y449     Ramicane        44.183451                15\n",
       "23     r811     Ramicane        37.225650                45\n",
       "0      k403     Ramicane        22.050126                45\n",
       "\n",
       "[100 rows x 4 columns]"
      ]
     },
     "execution_count": 237,
     "metadata": {},
     "output_type": "execute_result"
    }
   ],
   "source": [
    "# Calculate the final tumor volume of each mouse across four of the treatment regimens:  \n",
    "# Capomulin, Ramicane, Infubinol, and Ceftamin\n",
    "\n",
    "# Create a new df of just the promising treatments \n",
    "df2 = df[(df['Drug Regimen'] == 'Capomulin') |\n",
    "         (df['Drug Regimen'] == 'Ramicane') |\n",
    "         (df['Drug Regimen'] == 'Infubinol') |\n",
    "         (df['Drug Regimen'] == 'Ceftamin')]\n",
    "\n",
    "final_timepoint = []\n",
    "final_vol = []\n",
    "treatment = []\n",
    "\n",
    "# Create a df with Mouse ID, Drug Regimen, Final tumor volume and final time point for each mouse\n",
    "for mouse in df2[\"Mouse ID\"].unique():\n",
    "    data = df2[df2['Mouse ID'] == mouse] # the mouses  data\n",
    "    final_vol.append(data.iloc[-1, 6]) # the final row, tumor vol column\n",
    "    final_timepoint.append(data.iloc[-1, 5]) # the final row, timepoint column\n",
    "    treatment.append(data.iloc[-1, 1]) # the final row, drug regimen column\n",
    "    \n",
    "drug_data = pd.DataFrame({\"Mouse ID\":df2[\"Mouse ID\"].unique(),\n",
    "                         \"Drug Regimen\":treatment,\n",
    "                         \"Final Tumor Vol\":final_vol,\n",
    "                         \"Final Time point\":final_timepoint})\n",
    "\n",
    "drug_data.sort_values(by=\"Drug Regimen\", inplace=True)\n",
    "drug_data\n"
   ]
  },
  {
   "cell_type": "code",
   "execution_count": 239,
   "metadata": {
    "scrolled": true
   },
   "outputs": [
    {
     "name": "stdout",
     "output_type": "stream",
     "text": [
      "Descriptive statistics on the four most promising drugs:\n"
     ]
    },
    {
     "data": {
      "text/html": [
       "<div>\n",
       "<style scoped>\n",
       "    .dataframe tbody tr th:only-of-type {\n",
       "        vertical-align: middle;\n",
       "    }\n",
       "\n",
       "    .dataframe tbody tr th {\n",
       "        vertical-align: top;\n",
       "    }\n",
       "\n",
       "    .dataframe thead th {\n",
       "        text-align: right;\n",
       "    }\n",
       "</style>\n",
       "<table border=\"1\" class=\"dataframe\">\n",
       "  <thead>\n",
       "    <tr style=\"text-align: right;\">\n",
       "      <th></th>\n",
       "      <th>Lower Quartile</th>\n",
       "      <th>Upper Quartile</th>\n",
       "      <th>IQR</th>\n",
       "      <th>Median</th>\n",
       "      <th>Lower Bound</th>\n",
       "      <th>Upper Bound</th>\n",
       "    </tr>\n",
       "  </thead>\n",
       "  <tbody>\n",
       "    <tr>\n",
       "      <th>Capomulin</th>\n",
       "      <td>32.3774</td>\n",
       "      <td>40.1592</td>\n",
       "      <td>7.78186</td>\n",
       "      <td>38.1252</td>\n",
       "      <td>20.7046</td>\n",
       "      <td>51.832</td>\n",
       "    </tr>\n",
       "    <tr>\n",
       "      <th>Ceftamin</th>\n",
       "      <td>48.7221</td>\n",
       "      <td>64.2998</td>\n",
       "      <td>15.5778</td>\n",
       "      <td>59.852</td>\n",
       "      <td>25.3554</td>\n",
       "      <td>87.6665</td>\n",
       "    </tr>\n",
       "    <tr>\n",
       "      <th>Infubinol</th>\n",
       "      <td>54.0486</td>\n",
       "      <td>65.5257</td>\n",
       "      <td>11.4771</td>\n",
       "      <td>60.1652</td>\n",
       "      <td>36.8329</td>\n",
       "      <td>82.7414</td>\n",
       "    </tr>\n",
       "    <tr>\n",
       "      <th>Ramicane</th>\n",
       "      <td>31.5605</td>\n",
       "      <td>40.659</td>\n",
       "      <td>9.09854</td>\n",
       "      <td>36.5617</td>\n",
       "      <td>17.9127</td>\n",
       "      <td>54.3068</td>\n",
       "    </tr>\n",
       "  </tbody>\n",
       "</table>\n",
       "</div>"
      ],
      "text/plain": [
       "          Lower Quartile Upper Quartile      IQR   Median Lower Bound  \\\n",
       "Capomulin        32.3774        40.1592  7.78186  38.1252     20.7046   \n",
       "Ceftamin         48.7221        64.2998  15.5778   59.852     25.3554   \n",
       "Infubinol        54.0486        65.5257  11.4771  60.1652     36.8329   \n",
       "Ramicane         31.5605         40.659  9.09854  36.5617     17.9127   \n",
       "\n",
       "          Upper Bound  \n",
       "Capomulin      51.832  \n",
       "Ceftamin      87.6665  \n",
       "Infubinol     82.7414  \n",
       "Ramicane      54.3068  "
      ]
     },
     "metadata": {},
     "output_type": "display_data"
    },
    {
     "name": "stdout",
     "output_type": "stream",
     "text": [
      "\n",
      "The following outlier points were identifed in the data:\n"
     ]
    },
    {
     "data": {
      "text/html": [
       "<div>\n",
       "<style scoped>\n",
       "    .dataframe tbody tr th:only-of-type {\n",
       "        vertical-align: middle;\n",
       "    }\n",
       "\n",
       "    .dataframe tbody tr th {\n",
       "        vertical-align: top;\n",
       "    }\n",
       "\n",
       "    .dataframe thead th {\n",
       "        text-align: right;\n",
       "    }\n",
       "</style>\n",
       "<table border=\"1\" class=\"dataframe\">\n",
       "  <thead>\n",
       "    <tr style=\"text-align: right;\">\n",
       "      <th></th>\n",
       "      <th>Mouse ID</th>\n",
       "      <th>Drug Regimen</th>\n",
       "      <th>Final Tumor Vol</th>\n",
       "      <th>Final Time point</th>\n",
       "    </tr>\n",
       "  </thead>\n",
       "  <tbody>\n",
       "    <tr>\n",
       "      <th>0</th>\n",
       "      <td>c326</td>\n",
       "      <td>Infubinol</td>\n",
       "      <td>36.321346</td>\n",
       "      <td>5</td>\n",
       "    </tr>\n",
       "  </tbody>\n",
       "</table>\n",
       "</div>"
      ],
      "text/plain": [
       "  Mouse ID Drug Regimen  Final Tumor Vol Final Time point\n",
       "0     c326    Infubinol        36.321346                5"
      ]
     },
     "metadata": {},
     "output_type": "display_data"
    }
   ],
   "source": [
    "# Put treatments into a list for for loop \n",
    "treatments = drug_data['Drug Regimen'].unique()\n",
    "\n",
    "# Create a df to store the summary data\n",
    "drug_quartiles = pd.DataFrame(columns=(\"Lower Quartile\", \"Upper Quartile\", \"IQR\", \"Median\", \n",
    "                                       \"Lower Bound\", \"Upper Bound\"), index=treatments)\n",
    "\n",
    "# Summarise the results data for each drug regimen and display results     \n",
    "for drug in treatments:\n",
    "    data = drug_data[drug_data['Drug Regimen'] == drug]\n",
    "    median = data['Final Tumor Vol'].median()\n",
    "    quartiles = data['Final Tumor Vol'].quantile([.25,.5,.75])\n",
    "    iqr = quartiles[0.75] - quartiles[0.25]\n",
    "    \n",
    "    drug_quartiles.loc[drug, \"Median\"] = data['Final Tumor Vol'].median()\n",
    "    drug_quartiles.loc[drug, \"Lower Quartile\"] = quartiles[0.25]\n",
    "    drug_quartiles.loc[drug, \"Upper Quartile\"] = quartiles[0.75]\n",
    "    drug_quartiles.loc[drug, \"IQR\"] = iqr\n",
    "    drug_quartiles.loc[drug, \"Lower Bound\"] = quartiles[0.25] - (1.5*iqr)\n",
    "    drug_quartiles.loc[drug, \"Upper Bound\"] = quartiles[0.75] + (1.5*iqr) \n",
    "   \n",
    "print(\"Descriptive statistics on the four most promising drugs:\")\n",
    "display(drug_quartiles)\n",
    "print(\"\")\n",
    "    \n",
    "# Determine outliers using upper and lower bounds\n",
    "# Create empty df to store outlier data\n",
    "outliers = pd.DataFrame(columns=drug_data.columns)\n",
    "\n",
    "# Iterate through mice, checking if final tumor volume is an outlier\n",
    "for mouse in drug_data['Mouse ID'].unique():\n",
    "    mouse_data = drug_data[drug_data['Mouse ID'] == mouse] # get mouses data\n",
    "    treatment = mouse_data.iloc[-1, 1] # get which drug regimen mouse was on\n",
    "\n",
    "    # Check if mouse final tumor vol is an outlier, and if so add to the outliers df\n",
    "    #    --final tumor vol--            --upper bound--                            --final tumor vol--            --lower bound--        \n",
    "    if (mouse_data.iloc[0,2] > drug_quartiles.loc[treatment, \"Upper Bound\"]) | (mouse_data.iloc[0,2] < drug_quartiles.loc[treatment, \"Lower Bound\"]): \n",
    "        outliers = outliers.append(mouse_data, ignore_index=True)\n",
    "\n",
    "print(\"The following outlier points were identifed in the data:\")                  \n",
    "display(outliers)\n",
    "    "
   ]
  },
  {
   "cell_type": "code",
   "execution_count": 258,
   "metadata": {},
   "outputs": [
    {
     "data": {
      "image/png": "[encoded data removed]",
      "text/plain": [
       "<Figure size 864x576 with 1 Axes>"
      ]
     },
     "metadata": {
      "needs_background": "light"
     },
     "output_type": "display_data"
    }
   ],
   "source": [
    "# Generate a box plot of the final tumor volume of each mouse across four regimens of interest\n",
    "\n",
    "# Create a dictionary to store the outlier formatting \n",
    "green_diamond = dict(markerfacecolor='g', marker='D')\n",
    "\n",
    "# Create a df containing just the drug regiment and final tumor volume data\n",
    "plot_data = drug_data[['Drug Regimen', 'Final Tumor Vol']]\n",
    "\n",
    "# Create 4 boxplots of this data, grouped by drug regimen\n",
    "plot = plot_data.boxplot(by=\"Drug Regimen\", column=\"Final Tumor Vol\", grid=False, figsize=(12,8), fontsize=14)\n",
    "\n",
    "# Formatting and Display\n",
    "plot.set_ylabel(\"Tumor Volume (mm3)\", fontsize=14)\n",
    "plot.set_xlabel(\"Drug Regimen\", fontsize=14)\n",
    "plot.set_title(\"Boxplot of Final Tumor Volume Grouped by Drug Regimen\", fontsize=14)\n",
    "plt.suptitle(\"\")\n",
    "plt.show()\n"
   ]
  },
  {
   "cell_type": "markdown",
   "metadata": {},
   "source": [
    "## Line and Scatter Plots"
   ]
  },
  {
   "cell_type": "code",
   "execution_count": 259,
   "metadata": {},
   "outputs": [
    {
     "data": {
      "image/png": "[encoded data removed]",
      "text/plain": [
       "<Figure size 864x576 with 1 Axes>"
      ]
     },
     "metadata": {
      "needs_background": "light"
     },
     "output_type": "display_data"
    }
   ],
   "source": [
    "# Generate a line plot of time point versus tumor volume for a mouse treated with Capomulin\n",
    "# Mouse with ID 'i557' chosen from the data set\n",
    "plot_mouse = df[df[\"Mouse ID\"] == \"i557\"] \n",
    "\n",
    "# Line plot of this mouses tumor volume vs time\n",
    "plot = plot_mouse.plot.line(x=\"Timepoint\", y=\"Tumor Volume (mm3)\", figsize=(12,8), label=\"i557\")\n",
    "\n",
    "# Formatting and Display\n",
    "plot.set_ylabel(\"Tumor Volume (mm3)\", fontsize=14)\n",
    "plot.set_xlabel(\"Timepoint\", fontsize=14)\n",
    "plot.set_title(\"Tumor Volume Over Course of Treatment for Mouse i557\", fontsize=14)\n",
    "plt.xticks(fontsize=12)\n",
    "plt.yticks(fontsize=12)\n",
    "plt.ylim(plot_mouse['Tumor Volume (mm3)'].min()-1, plot_mouse['Tumor Volume (mm3)'].max()+1)\n",
    "plt.xlim(plot_mouse['Timepoint'].min(), plot_mouse['Timepoint'].max())\n",
    "plt.show()\n"
   ]
  },
  {
   "cell_type": "code",
   "execution_count": 264,
   "metadata": {},
   "outputs": [
    {
     "data": {
      "image/png": "[encoded data removed]",
      "text/plain": [
       "<Figure size 864x576 with 1 Axes>"
      ]
     },
     "metadata": {
      "needs_background": "light"
     },
     "output_type": "display_data"
    }
   ],
   "source": [
    "# Generate a scatter plot of mouse weight versus average tumor volume for the Capomulin regimen\n",
    "\n",
    "# Create a df of just the Capomulin data\n",
    "cap_data = df[df[\"Drug Regimen\"] == \"Capomulin\"] \n",
    "# Create a lists for average tumor volume, and mouse weight for each mouse in the Capomulin regimen group \n",
    "mean_tumor_vol = pd.DataFrame(cap_data.groupby([\"Mouse ID\"])[\"Tumor Volume (mm3)\"].mean()).reset_index()\n",
    "weight = pd.DataFrame(cap_data.groupby([\"Mouse ID\"])[\"Weight (g)\"].max()).reset_index()\n",
    "# Merge these yielding a df which can be plotted\n",
    "plot_data = pd.merge(mean_tumor_vol, weight, on=\"Mouse ID\")\n",
    "\n",
    "# Scatter plot of mouse weight vs tumor volume\n",
    "plot = plot_data.plot.scatter(x=\"Weight (g)\", y=\"Tumor Volume (mm3)\", figsize=(12,8))\n",
    "\n",
    "# Formatting and Display\n",
    "plot.set_ylabel(\"Tumor Volume (mm3)\", fontsize=14)\n",
    "plot.set_xlabel(\"Mouse Weight (g)\", fontsize=14)\n",
    "plot.set_title(\"Scatter Plot of Mouse Wight (g) vs Tumor Volume (mm3)\", fontsize=14)\n",
    "plt.xticks(fontsize=12)\n",
    "plt.yticks(fontsize=12)\n",
    "plt.ylim(plot_data['Tumor Volume (mm3)'].min()-1, plot_data['Tumor Volume (mm3)'].max()+1)\n",
    "plt.xlim(plot_data['Weight (g)'].min()-4, plot_data['Weight (g)'].max()+4)\n",
    "plt.show()\n"
   ]
  },
  {
   "cell_type": "markdown",
   "metadata": {},
   "source": [
    "## Correlation and Regression"
   ]
  },
  {
   "cell_type": "code",
   "execution_count": 280,
   "metadata": {},
   "outputs": [
    {
     "name": "stdout",
     "output_type": "stream",
     "text": [
      "The correlation between mouse weight and average tumor volume is 0.84\n",
      "\n"
     ]
    }
   ],
   "source": [
    "# -- CORRELATION -- \n",
    "# Calculate the correlation coefficient  \n",
    "\n",
    "correlation = st.pearsonr(plot_data[\"Weight (g)\"] , plot_data[\"Tumor Volume (mm3)\"])\n",
    "\n",
    "print(f\"The correlation between mouse weight and average tumor volume is {round(correlation[0],2)}\")\n",
    "print(\"\")\n"
   ]
  },
  {
   "cell_type": "code",
   "execution_count": 297,
   "metadata": {},
   "outputs": [
    {
     "name": "stdout",
     "output_type": "stream",
     "text": [
      "The r-squared is: 0.71\n"
     ]
    },
    {
     "data": {
      "image/png": "[encoded data removed]",
      "text/plain": [
       "<Figure size 432x288 with 1 Axes>"
      ]
     },
     "metadata": {
      "needs_background": "light"
     },
     "output_type": "display_data"
    }
   ],
   "source": [
    "# -- LINEAR REGRESSION --  \n",
    "# Set x and y values\n",
    "x_values = plot_data[\"Weight (g)\"]\n",
    "y_values = plot_data[\"Tumor Volume (mm3)\"]\n",
    "\n",
    "# Calulate the linear regression equation for the data\n",
    "(slope, intercept, rvalue, pvalue, stderr) = linregress(x_values, y_values)\n",
    "regress_values = x_values * slope + intercept\n",
    "line_eq = \"y = \" + str(round(slope,2)) + \"x + \" + str(round(intercept,2))\n",
    "\n",
    "# Plot the data and the regression equation\n",
    "plt.scatter(x_values,y_values)\n",
    "plt.plot(x_values,regress_values,\"r-\")\n",
    "plt.annotate(line_eq,(6,10),fontsize=15,color=\"red\")\n",
    "plt.xlabel('Mouse Weight (g)')\n",
    "plt.ylabel('Tumor Volume (mm3)')\n",
    "\n",
    "print(f\"The r-squared is: {round((rvalue**2),2)}\")\n",
    "plt.show()"
   ]
  },
  {
   "cell_type": "code",
   "execution_count": null,
   "metadata": {},
   "outputs": [],
   "source": []
  }
 ],
 "metadata": {
  "anaconda-cloud": {},
  "kernelspec": {
   "display_name": "Python 3",
   "language": "python",
   "name": "python3"
  },
  "language_info": {
   "codemirror_mode": {
    "name": "ipython",
    "version": 3
   },
   "file_extension": ".py",
   "mimetype": "text/x-python",
   "name": "python",
   "nbconvert_exporter": "python",
   "pygments_lexer": "ipython3",
   "version": "3.6.10"
  }
 },
 "nbformat": 4,
 "nbformat_minor": 2
}
