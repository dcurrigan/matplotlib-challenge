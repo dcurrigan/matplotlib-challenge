{
 "cells": [
  {
   "cell_type": "markdown",
   "metadata": {},
   "source": [
    "## Observations and Insights "
   ]
  },
  {
   "cell_type": "markdown",
   "metadata": {},
   "source": []
  },
  {
   "cell_type": "code",
   "execution_count": 85,
   "metadata": {},
   "outputs": [
    {
     "data": {
      "text/html": [
       "<div>\n",
       "<style scoped>\n",
       "    .dataframe tbody tr th:only-of-type {\n",
       "        vertical-align: middle;\n",
       "    }\n",
       "\n",
       "    .dataframe tbody tr th {\n",
       "        vertical-align: top;\n",
       "    }\n",
       "\n",
       "    .dataframe thead th {\n",
       "        text-align: right;\n",
       "    }\n",
       "</style>\n",
       "<table border=\"1\" class=\"dataframe\">\n",
       "  <thead>\n",
       "    <tr style=\"text-align: right;\">\n",
       "      <th></th>\n",
       "      <th>Mouse ID</th>\n",
       "      <th>Drug Regimen</th>\n",
       "      <th>Sex</th>\n",
       "      <th>Age_months</th>\n",
       "      <th>Weight (g)</th>\n",
       "      <th>Timepoint</th>\n",
       "      <th>Tumor Volume (mm3)</th>\n",
       "      <th>Metastatic Sites</th>\n",
       "    </tr>\n",
       "  </thead>\n",
       "  <tbody>\n",
       "    <tr>\n",
       "      <th>0</th>\n",
       "      <td>k403</td>\n",
       "      <td>Ramicane</td>\n",
       "      <td>Male</td>\n",
       "      <td>21</td>\n",
       "      <td>16</td>\n",
       "      <td>0</td>\n",
       "      <td>45.000000</td>\n",
       "      <td>0</td>\n",
       "    </tr>\n",
       "    <tr>\n",
       "      <th>1</th>\n",
       "      <td>k403</td>\n",
       "      <td>Ramicane</td>\n",
       "      <td>Male</td>\n",
       "      <td>21</td>\n",
       "      <td>16</td>\n",
       "      <td>5</td>\n",
       "      <td>38.825898</td>\n",
       "      <td>0</td>\n",
       "    </tr>\n",
       "    <tr>\n",
       "      <th>2</th>\n",
       "      <td>k403</td>\n",
       "      <td>Ramicane</td>\n",
       "      <td>Male</td>\n",
       "      <td>21</td>\n",
       "      <td>16</td>\n",
       "      <td>10</td>\n",
       "      <td>35.014271</td>\n",
       "      <td>1</td>\n",
       "    </tr>\n",
       "    <tr>\n",
       "      <th>3</th>\n",
       "      <td>k403</td>\n",
       "      <td>Ramicane</td>\n",
       "      <td>Male</td>\n",
       "      <td>21</td>\n",
       "      <td>16</td>\n",
       "      <td>15</td>\n",
       "      <td>34.223992</td>\n",
       "      <td>1</td>\n",
       "    </tr>\n",
       "    <tr>\n",
       "      <th>4</th>\n",
       "      <td>k403</td>\n",
       "      <td>Ramicane</td>\n",
       "      <td>Male</td>\n",
       "      <td>21</td>\n",
       "      <td>16</td>\n",
       "      <td>20</td>\n",
       "      <td>32.997729</td>\n",
       "      <td>1</td>\n",
       "    </tr>\n",
       "  </tbody>\n",
       "</table>\n",
       "</div>"
      ],
      "text/plain": [
       "  Mouse ID Drug Regimen   Sex  Age_months  Weight (g)  Timepoint  \\\n",
       "0     k403     Ramicane  Male          21          16          0   \n",
       "1     k403     Ramicane  Male          21          16          5   \n",
       "2     k403     Ramicane  Male          21          16         10   \n",
       "3     k403     Ramicane  Male          21          16         15   \n",
       "4     k403     Ramicane  Male          21          16         20   \n",
       "\n",
       "   Tumor Volume (mm3)  Metastatic Sites  \n",
       "0           45.000000                 0  \n",
       "1           38.825898                 0  \n",
       "2           35.014271                 1  \n",
       "3           34.223992                 1  \n",
       "4           32.997729                 1  "
      ]
     },
     "execution_count": 85,
     "metadata": {},
     "output_type": "execute_result"
    }
   ],
   "source": [
    "# Dependencies and Setup\n",
    "import matplotlib.pyplot as plt\n",
    "import pandas as pd\n",
    "import numpy as np\n",
    "import scipy.stats as st\n",
    "\n",
    "# Study data files\n",
    "mouse_metadata_path = \"data/Mouse_metadata.csv\"\n",
    "study_results_path = \"data/Study_results.csv\"\n",
    "\n",
    "# Read the mouse data and the study results\n",
    "mouse_metadata = pd.read_csv(mouse_metadata_path)\n",
    "study_results = pd.read_csv(study_results_path)\n",
    "\n",
    "# # Combine the data into a single dataset\n",
    "df = pd.merge(mouse_metadata, study_results, on=\"Mouse ID\" )\n",
    "df.to_csv(\"test_data.csv\")\n",
    "# Display the data table for preview\n",
    "df.head()"
   ]
  },
  {
   "cell_type": "code",
   "execution_count": 71,
   "metadata": {},
   "outputs": [
    {
     "name": "stdout",
     "output_type": "stream",
     "text": [
      "Number of unique mice is: 249\n"
     ]
    }
   ],
   "source": [
    "# Checking the number of mice.\n",
    "unique_mice = df['Mouse ID'].unique()\n",
    "num_unique_mice = len(df['Mouse ID'].unique())\n",
    "\n",
    "print(f\"Number of unique mice is: {num_unique_mice}\")"
   ]
  },
  {
   "cell_type": "code",
   "execution_count": 72,
   "metadata": {},
   "outputs": [
    {
     "name": "stdout",
     "output_type": "stream",
     "text": [
      "Mouse ID with duplicate time points: ['g989']\n"
     ]
    }
   ],
   "source": [
    "# Getting the duplicate mice by ID number that shows up for Mouse ID and Timepoint. \n",
    "\n",
    "# Iterate through each mouses data  \n",
    "# If there are no duplicates then the index length and unique timepoints length should be the same  \n",
    " \n",
    "duplicate_ids = []\n",
    "for mouse in unique_mice:\n",
    "    \n",
    "    mouse_data = df[df[\"Mouse ID\"] == mouse]\n",
    "    if len(mouse_data.index) != len(mouse_data[\"Timepoint\"].unique()):\n",
    "        duplicate_ids.append(mouse)\n",
    "               \n",
    "print(f\"Mouse ID with duplicate time points: {duplicate_ids}\")\n"
   ]
  },
  {
   "cell_type": "code",
   "execution_count": 73,
   "metadata": {},
   "outputs": [
    {
     "name": "stdout",
     "output_type": "stream",
     "text": [
      "Data removed from the the main data set due to duplicate time points:\n"
     ]
    },
    {
     "data": {
      "text/html": [
       "<div>\n",
       "<style scoped>\n",
       "    .dataframe tbody tr th:only-of-type {\n",
       "        vertical-align: middle;\n",
       "    }\n",
       "\n",
       "    .dataframe tbody tr th {\n",
       "        vertical-align: top;\n",
       "    }\n",
       "\n",
       "    .dataframe thead th {\n",
       "        text-align: right;\n",
       "    }\n",
       "</style>\n",
       "<table border=\"1\" class=\"dataframe\">\n",
       "  <thead>\n",
       "    <tr style=\"text-align: right;\">\n",
       "      <th></th>\n",
       "      <th>Mouse ID</th>\n",
       "      <th>Drug Regimen</th>\n",
       "      <th>Sex</th>\n",
       "      <th>Age_months</th>\n",
       "      <th>Weight (g)</th>\n",
       "      <th>Timepoint</th>\n",
       "      <th>Tumor Volume (mm3)</th>\n",
       "      <th>Metastatic Sites</th>\n",
       "    </tr>\n",
       "  </thead>\n",
       "  <tbody>\n",
       "    <tr>\n",
       "      <th>908</th>\n",
       "      <td>g989</td>\n",
       "      <td>Propriva</td>\n",
       "      <td>Female</td>\n",
       "      <td>21</td>\n",
       "      <td>26</td>\n",
       "      <td>0</td>\n",
       "      <td>45.000000</td>\n",
       "      <td>0</td>\n",
       "    </tr>\n",
       "    <tr>\n",
       "      <th>909</th>\n",
       "      <td>g989</td>\n",
       "      <td>Propriva</td>\n",
       "      <td>Female</td>\n",
       "      <td>21</td>\n",
       "      <td>26</td>\n",
       "      <td>0</td>\n",
       "      <td>45.000000</td>\n",
       "      <td>0</td>\n",
       "    </tr>\n",
       "    <tr>\n",
       "      <th>910</th>\n",
       "      <td>g989</td>\n",
       "      <td>Propriva</td>\n",
       "      <td>Female</td>\n",
       "      <td>21</td>\n",
       "      <td>26</td>\n",
       "      <td>5</td>\n",
       "      <td>48.786801</td>\n",
       "      <td>0</td>\n",
       "    </tr>\n",
       "    <tr>\n",
       "      <th>911</th>\n",
       "      <td>g989</td>\n",
       "      <td>Propriva</td>\n",
       "      <td>Female</td>\n",
       "      <td>21</td>\n",
       "      <td>26</td>\n",
       "      <td>5</td>\n",
       "      <td>47.570392</td>\n",
       "      <td>0</td>\n",
       "    </tr>\n",
       "    <tr>\n",
       "      <th>912</th>\n",
       "      <td>g989</td>\n",
       "      <td>Propriva</td>\n",
       "      <td>Female</td>\n",
       "      <td>21</td>\n",
       "      <td>26</td>\n",
       "      <td>10</td>\n",
       "      <td>51.745156</td>\n",
       "      <td>0</td>\n",
       "    </tr>\n",
       "    <tr>\n",
       "      <th>913</th>\n",
       "      <td>g989</td>\n",
       "      <td>Propriva</td>\n",
       "      <td>Female</td>\n",
       "      <td>21</td>\n",
       "      <td>26</td>\n",
       "      <td>10</td>\n",
       "      <td>49.880528</td>\n",
       "      <td>0</td>\n",
       "    </tr>\n",
       "    <tr>\n",
       "      <th>914</th>\n",
       "      <td>g989</td>\n",
       "      <td>Propriva</td>\n",
       "      <td>Female</td>\n",
       "      <td>21</td>\n",
       "      <td>26</td>\n",
       "      <td>15</td>\n",
       "      <td>51.325852</td>\n",
       "      <td>1</td>\n",
       "    </tr>\n",
       "    <tr>\n",
       "      <th>915</th>\n",
       "      <td>g989</td>\n",
       "      <td>Propriva</td>\n",
       "      <td>Female</td>\n",
       "      <td>21</td>\n",
       "      <td>26</td>\n",
       "      <td>15</td>\n",
       "      <td>53.442020</td>\n",
       "      <td>0</td>\n",
       "    </tr>\n",
       "    <tr>\n",
       "      <th>916</th>\n",
       "      <td>g989</td>\n",
       "      <td>Propriva</td>\n",
       "      <td>Female</td>\n",
       "      <td>21</td>\n",
       "      <td>26</td>\n",
       "      <td>20</td>\n",
       "      <td>55.326122</td>\n",
       "      <td>1</td>\n",
       "    </tr>\n",
       "    <tr>\n",
       "      <th>917</th>\n",
       "      <td>g989</td>\n",
       "      <td>Propriva</td>\n",
       "      <td>Female</td>\n",
       "      <td>21</td>\n",
       "      <td>26</td>\n",
       "      <td>20</td>\n",
       "      <td>54.657650</td>\n",
       "      <td>1</td>\n",
       "    </tr>\n",
       "    <tr>\n",
       "      <th>918</th>\n",
       "      <td>g989</td>\n",
       "      <td>Propriva</td>\n",
       "      <td>Female</td>\n",
       "      <td>21</td>\n",
       "      <td>26</td>\n",
       "      <td>25</td>\n",
       "      <td>56.045564</td>\n",
       "      <td>1</td>\n",
       "    </tr>\n",
       "    <tr>\n",
       "      <th>919</th>\n",
       "      <td>g989</td>\n",
       "      <td>Propriva</td>\n",
       "      <td>Female</td>\n",
       "      <td>21</td>\n",
       "      <td>26</td>\n",
       "      <td>30</td>\n",
       "      <td>59.082294</td>\n",
       "      <td>1</td>\n",
       "    </tr>\n",
       "    <tr>\n",
       "      <th>920</th>\n",
       "      <td>g989</td>\n",
       "      <td>Propriva</td>\n",
       "      <td>Female</td>\n",
       "      <td>21</td>\n",
       "      <td>26</td>\n",
       "      <td>35</td>\n",
       "      <td>62.570880</td>\n",
       "      <td>2</td>\n",
       "    </tr>\n",
       "  </tbody>\n",
       "</table>\n",
       "</div>"
      ],
      "text/plain": [
       "    Mouse ID Drug Regimen     Sex  Age_months  Weight (g)  Timepoint  \\\n",
       "908     g989     Propriva  Female          21          26          0   \n",
       "909     g989     Propriva  Female          21          26          0   \n",
       "910     g989     Propriva  Female          21          26          5   \n",
       "911     g989     Propriva  Female          21          26          5   \n",
       "912     g989     Propriva  Female          21          26         10   \n",
       "913     g989     Propriva  Female          21          26         10   \n",
       "914     g989     Propriva  Female          21          26         15   \n",
       "915     g989     Propriva  Female          21          26         15   \n",
       "916     g989     Propriva  Female          21          26         20   \n",
       "917     g989     Propriva  Female          21          26         20   \n",
       "918     g989     Propriva  Female          21          26         25   \n",
       "919     g989     Propriva  Female          21          26         30   \n",
       "920     g989     Propriva  Female          21          26         35   \n",
       "\n",
       "     Tumor Volume (mm3)  Metastatic Sites  \n",
       "908           45.000000                 0  \n",
       "909           45.000000                 0  \n",
       "910           48.786801                 0  \n",
       "911           47.570392                 0  \n",
       "912           51.745156                 0  \n",
       "913           49.880528                 0  \n",
       "914           51.325852                 1  \n",
       "915           53.442020                 0  \n",
       "916           55.326122                 1  \n",
       "917           54.657650                 1  \n",
       "918           56.045564                 1  \n",
       "919           59.082294                 1  \n",
       "920           62.570880                 2  "
      ]
     },
     "metadata": {},
     "output_type": "display_data"
    }
   ],
   "source": [
    "# Optional: Get all the data for the duplicate mouse ID. \n",
    "removed_data = pd.DataFrame()\n",
    "for ids in duplicate_ids:\n",
    "    removed_data = removed_data.append(df[df ['Mouse ID'] == ids], sort=False)\n",
    "\n",
    "print(\"Data removed from the the main data set due to duplicate time points:\")\n",
    "display(removed_data)\n"
   ]
  },
  {
   "cell_type": "code",
   "execution_count": 74,
   "metadata": {},
   "outputs": [
    {
     "name": "stdout",
     "output_type": "stream",
     "text": [
      "Data with duplicate timepoints has now been removed from the main DataFrame\n"
     ]
    }
   ],
   "source": [
    "# Create a clean DataFrame by dropping the duplicate mouse by its ID.\n",
    "for ids in duplicate_ids:\n",
    "    df = df[df ['Mouse ID'] != ids]\n",
    "\n",
    "print(\"Data with duplicate timepoints has now been removed from the main DataFrame\")\n",
    "    "
   ]
  },
  {
   "cell_type": "code",
   "execution_count": 75,
   "metadata": {},
   "outputs": [
    {
     "name": "stdout",
     "output_type": "stream",
     "text": [
      "Number of unique mice in the clean DataFrame is: 248\n",
      "\n"
     ]
    }
   ],
   "source": [
    "# Checking the number of mice in the clean DataFrame.\n",
    "# Checking the number of mice.\n",
    "unique_mice = df['Mouse ID'].unique()\n",
    "num_unique_mice = len(df['Mouse ID'].unique())\n",
    "\n",
    "print(f\"Number of unique mice in the clean DataFrame is: {num_unique_mice}\")\n",
    "print(\"\")"
   ]
  },
  {
   "cell_type": "markdown",
   "metadata": {},
   "source": [
    "## Summary Statistics"
   ]
  },
  {
   "cell_type": "code",
   "execution_count": 76,
   "metadata": {},
   "outputs": [
    {
     "name": "stdout",
     "output_type": "stream",
     "text": [
      "\n",
      "Summary stats for tumor volume (units = mm3), for each drug regimen:\n"
     ]
    },
    {
     "data": {
      "text/html": [
       "<div>\n",
       "<style scoped>\n",
       "    .dataframe tbody tr th:only-of-type {\n",
       "        vertical-align: middle;\n",
       "    }\n",
       "\n",
       "    .dataframe tbody tr th {\n",
       "        vertical-align: top;\n",
       "    }\n",
       "\n",
       "    .dataframe thead th {\n",
       "        text-align: right;\n",
       "    }\n",
       "</style>\n",
       "<table border=\"1\" class=\"dataframe\">\n",
       "  <thead>\n",
       "    <tr style=\"text-align: right;\">\n",
       "      <th></th>\n",
       "      <th>Mean</th>\n",
       "      <th>Median</th>\n",
       "      <th>Std_Dev</th>\n",
       "      <th>SEM</th>\n",
       "    </tr>\n",
       "    <tr>\n",
       "      <th>Drug Regimen</th>\n",
       "      <th></th>\n",
       "      <th></th>\n",
       "      <th></th>\n",
       "      <th></th>\n",
       "    </tr>\n",
       "  </thead>\n",
       "  <tbody>\n",
       "    <tr>\n",
       "      <th>Capomulin</th>\n",
       "      <td>40.68</td>\n",
       "      <td>41.56</td>\n",
       "      <td>4.99</td>\n",
       "      <td>0.33</td>\n",
       "    </tr>\n",
       "    <tr>\n",
       "      <th>Ceftamin</th>\n",
       "      <td>52.59</td>\n",
       "      <td>51.78</td>\n",
       "      <td>6.27</td>\n",
       "      <td>0.47</td>\n",
       "    </tr>\n",
       "    <tr>\n",
       "      <th>Infubinol</th>\n",
       "      <td>52.88</td>\n",
       "      <td>51.82</td>\n",
       "      <td>6.57</td>\n",
       "      <td>0.49</td>\n",
       "    </tr>\n",
       "    <tr>\n",
       "      <th>Ketapril</th>\n",
       "      <td>55.24</td>\n",
       "      <td>53.70</td>\n",
       "      <td>8.28</td>\n",
       "      <td>0.60</td>\n",
       "    </tr>\n",
       "    <tr>\n",
       "      <th>Naftisol</th>\n",
       "      <td>54.33</td>\n",
       "      <td>52.51</td>\n",
       "      <td>8.13</td>\n",
       "      <td>0.60</td>\n",
       "    </tr>\n",
       "    <tr>\n",
       "      <th>Placebo</th>\n",
       "      <td>54.03</td>\n",
       "      <td>52.29</td>\n",
       "      <td>7.82</td>\n",
       "      <td>0.58</td>\n",
       "    </tr>\n",
       "    <tr>\n",
       "      <th>Propriva</th>\n",
       "      <td>52.32</td>\n",
       "      <td>50.45</td>\n",
       "      <td>6.62</td>\n",
       "      <td>0.54</td>\n",
       "    </tr>\n",
       "    <tr>\n",
       "      <th>Ramicane</th>\n",
       "      <td>40.22</td>\n",
       "      <td>40.67</td>\n",
       "      <td>4.85</td>\n",
       "      <td>0.32</td>\n",
       "    </tr>\n",
       "    <tr>\n",
       "      <th>Stelasyn</th>\n",
       "      <td>54.23</td>\n",
       "      <td>52.43</td>\n",
       "      <td>7.71</td>\n",
       "      <td>0.57</td>\n",
       "    </tr>\n",
       "    <tr>\n",
       "      <th>Zoniferol</th>\n",
       "      <td>53.24</td>\n",
       "      <td>51.82</td>\n",
       "      <td>6.97</td>\n",
       "      <td>0.52</td>\n",
       "    </tr>\n",
       "  </tbody>\n",
       "</table>\n",
       "</div>"
      ],
      "text/plain": [
       "               Mean  Median  Std_Dev   SEM\n",
       "Drug Regimen                              \n",
       "Capomulin     40.68   41.56     4.99  0.33\n",
       "Ceftamin      52.59   51.78     6.27  0.47\n",
       "Infubinol     52.88   51.82     6.57  0.49\n",
       "Ketapril      55.24   53.70     8.28  0.60\n",
       "Naftisol      54.33   52.51     8.13  0.60\n",
       "Placebo       54.03   52.29     7.82  0.58\n",
       "Propriva      52.32   50.45     6.62  0.54\n",
       "Ramicane      40.22   40.67     4.85  0.32\n",
       "Stelasyn      54.23   52.43     7.71  0.57\n",
       "Zoniferol     53.24   51.82     6.97  0.52"
      ]
     },
     "execution_count": 76,
     "metadata": {},
     "output_type": "execute_result"
    }
   ],
   "source": [
    "# Generate a summary statistics table of mean, median, variance, standard deviation, and SEM of the tumor volume for each regimen\n",
    "summary_stats = df.groupby('Drug Regimen').agg(Mean=('Tumor Volume (mm3)', 'mean'), Median=('Tumor Volume (mm3)', 'median'),\n",
    "                                               Std_Dev=('Tumor Volume (mm3)', 'std'), SEM=('Tumor Volume (mm3)', 'sem'))\n",
    "\n",
    "# Format and display\n",
    "summary_stats.iloc[:,0:] = round(summary_stats.iloc[:,0:],2)\n",
    "print(\"\")\n",
    "print(\"Summary stats for tumor volume (units = mm3), for each drug regimen:\")\n",
    "summary_stats"
   ]
  },
  {
   "cell_type": "markdown",
   "metadata": {},
   "source": [
    "## Bar and Pie Charts"
   ]
  },
  {
   "cell_type": "code",
   "execution_count": 77,
   "metadata": {},
   "outputs": [
    {
     "data": {
      "image/png": "[encoded data removed]",
      "text/plain": [
       "<Figure size 864x576 with 1 Axes>"
      ]
     },
     "metadata": {
      "needs_background": "light"
     },
     "output_type": "display_data"
    }
   ],
   "source": [
    "# -- BAR PLOT USING PANDAS -- #\n",
    "\n",
    "# Create a dataframe with only the unique Timepoints\n",
    "plot_data = pd.DataFrame({\"Timepoint\":df['Timepoint'].unique()})\n",
    "\n",
    "# Iterate throught the drug regimens, grouping their data by timepoint and counting number of mice\n",
    "for treatment in df['Drug Regimen'].unique():\n",
    "    data = df[df['Drug Regimen'] == treatment].groupby(['Timepoint'])['Mouse ID'].nunique().reset_index()\n",
    "    plot_data[treatment] = data['Mouse ID']\n",
    "\n",
    "# Plot the resulting DataFrame using Pandas.plot\n",
    "mouse_plot = plot_data.plot.bar(x=\"Timepoint\", figsize=(12,8), rot=\"horizontal\", width=0.8, alpha=0.85,\n",
    "                                legend=True, title=\"Mouse Count for Each Drug Regimen Over Course of the Study \")\n",
    "\n",
    "plt.tight_layout()\n",
    "plt.legend(ncol=2)\n",
    "plt.show()\n",
    "\n"
   ]
  },
  {
   "cell_type": "code",
   "execution_count": 78,
   "metadata": {},
   "outputs": [
    {
     "data": {
      "image/png": "[encoded data removed]",
      "text/plain": [
       "<Figure size 864x576 with 1 Axes>"
      ]
     },
     "metadata": {
      "needs_background": "light"
     },
     "output_type": "display_data"
    }
   ],
   "source": [
    "# -- BAR PLOT USING PYPLOT -- #\n",
    "\n",
    "# x-axis set to the unique values in the 'Timepoint' column of the plot_data DataFrame\n",
    "x_axis = plot_data['Timepoint'].unique()\n",
    "# width of each bar specified (needed for spacing of bars)\n",
    "bar_width = 0.4\n",
    "\n",
    "# PLOT THE BARS\n",
    "fig, ax = plt.subplots(figsize=(12,8))\n",
    "\n",
    "# Iterate through columns of plot_data (each colulmn is a different drug regimen)\n",
    "#   plot that drug regimens data, allowing for a spacing (= to bar_width) so that bars don't overlap \n",
    "for col in range(1, len(plot_data.columns)):\n",
    "    ax.bar([x + (bar_width*col) for x in x_axis], plot_data.iloc[:,col], width=0.4, alpha=0.85, label=plot_data.columns[col])\n",
    " \n",
    "# FORMATTING AND DISPLAY\n",
    "ax.legend(ncol=2)\n",
    "plt.xlabel(\"Timepoint\")\n",
    "plt.ylabel(\"Mouse Count\")\n",
    "plt.title(\"Mouse Count for Each Drug Regimen Over Course of the Study \")\n",
    "plt.xlim()\n",
    "plt.xticks(ticks=(x_axis+2.2), labels=plot_data['Timepoint'].unique())\n",
    "plt.xlim(min(x_axis)-(bar_width*3), max(x_axis)+bar_width*14)\n",
    "plt.tight_layout()\n",
    "plt.show()"
   ]
  },
  {
   "cell_type": "code",
   "execution_count": 79,
   "metadata": {},
   "outputs": [
    {
     "data": {
      "image/png": "[encoded data removed]",
      "text/plain": [
       "<Figure size 720x720 with 1 Axes>"
      ]
     },
     "metadata": {},
     "output_type": "display_data"
    }
   ],
   "source": [
    "# -- PIE PLOT USING PANDAS -- #\n",
    "\n",
    "# Group data by sex using Pandas groupby\n",
    "plot_data_2 = df.groupby(['Sex']).count()\n",
    "\n",
    "# Plot the data as a Pandas plot pie chart\n",
    "plot = plot_data_2.plot.pie(y='Mouse ID', startangle=45, figsize=(10,10), \n",
    "                            autopct='%1.1f%%', shadow=True, title=\"Male vs Female Mouse Count\",\n",
    "                            # determine element that has the greatest value and apply explode \n",
    "                            # This statement returns an array of booleans which is multipled by the explode factor \n",
    "                            explode=(plot_data_2['Mouse ID'] == max(plot_data_2['Mouse ID'])) * 0.1)\n",
    "\n",
    "plt.axis(\"equal\")\n",
    "plt.show()\n"
   ]
  },
  {
   "cell_type": "code",
   "execution_count": 80,
   "metadata": {},
   "outputs": [
    {
     "data": {
      "image/png": "[encoded data removed]",
      "text/plain": [
       "<Figure size 720x720 with 1 Axes>"
      ]
     },
     "metadata": {},
     "output_type": "display_data"
    }
   ],
   "source": [
    "# -- PIE PLOT USING PYPLOT -- #\n",
    "\n",
    "plt.subplots(figsize=(10,10))\n",
    "\n",
    "plot_2 = plt.pie(plot_data_2['Mouse ID'], labels=plot_data_2.index, startangle=45, \n",
    "         autopct='%1.1f%%', shadow=True,\n",
    "         # determine element that has the greatest value and apply explode \n",
    "         # This statement returns an array of booleans which is multipled by the explode factor \n",
    "         explode=(plot_data_2['Mouse ID'] == max(plot_data_2['Mouse ID'])) * 0.1)\n",
    "\n",
    "plt.legend()\n",
    "plt.title(\"Male vs Female Mouse Count\")\n",
    "plt.axis(\"equal\")\n",
    "plt.show()\n",
    "\n",
    "\n"
   ]
  },
  {
   "cell_type": "markdown",
   "metadata": {},
   "source": [
    "## Quartiles, Outliers and Boxplots"
   ]
  },
  {
   "cell_type": "code",
   "execution_count": 81,
   "metadata": {},
   "outputs": [
    {
     "data": {
      "text/html": [
       "<div>\n",
       "<style scoped>\n",
       "    .dataframe tbody tr th:only-of-type {\n",
       "        vertical-align: middle;\n",
       "    }\n",
       "\n",
       "    .dataframe tbody tr th {\n",
       "        vertical-align: top;\n",
       "    }\n",
       "\n",
       "    .dataframe thead th {\n",
       "        text-align: right;\n",
       "    }\n",
       "</style>\n",
       "<table border=\"1\" class=\"dataframe\">\n",
       "  <thead>\n",
       "    <tr style=\"text-align: right;\">\n",
       "      <th></th>\n",
       "      <th>Mouse ID</th>\n",
       "      <th>Drug Regimen</th>\n",
       "      <th>Final Tumor Vol</th>\n",
       "      <th>Final Time point</th>\n",
       "    </tr>\n",
       "  </thead>\n",
       "  <tbody>\n",
       "    <tr>\n",
       "      <th>32</th>\n",
       "      <td>j246</td>\n",
       "      <td>Capomulin</td>\n",
       "      <td>38.753265</td>\n",
       "      <td>35</td>\n",
       "    </tr>\n",
       "    <tr>\n",
       "      <th>36</th>\n",
       "      <td>v923</td>\n",
       "      <td>Capomulin</td>\n",
       "      <td>40.658124</td>\n",
       "      <td>45</td>\n",
       "    </tr>\n",
       "    <tr>\n",
       "      <th>35</th>\n",
       "      <td>w150</td>\n",
       "      <td>Capomulin</td>\n",
       "      <td>39.952347</td>\n",
       "      <td>10</td>\n",
       "    </tr>\n",
       "    <tr>\n",
       "      <th>34</th>\n",
       "      <td>j119</td>\n",
       "      <td>Capomulin</td>\n",
       "      <td>38.125164</td>\n",
       "      <td>45</td>\n",
       "    </tr>\n",
       "    <tr>\n",
       "      <th>39</th>\n",
       "      <td>l509</td>\n",
       "      <td>Capomulin</td>\n",
       "      <td>41.483008</td>\n",
       "      <td>45</td>\n",
       "    </tr>\n",
       "    <tr>\n",
       "      <th>...</th>\n",
       "      <td>...</td>\n",
       "      <td>...</td>\n",
       "      <td>...</td>\n",
       "      <td>...</td>\n",
       "    </tr>\n",
       "    <tr>\n",
       "      <th>46</th>\n",
       "      <td>r921</td>\n",
       "      <td>Ramicane</td>\n",
       "      <td>43.419381</td>\n",
       "      <td>30</td>\n",
       "    </tr>\n",
       "    <tr>\n",
       "      <th>47</th>\n",
       "      <td>w678</td>\n",
       "      <td>Ramicane</td>\n",
       "      <td>43.166373</td>\n",
       "      <td>5</td>\n",
       "    </tr>\n",
       "    <tr>\n",
       "      <th>48</th>\n",
       "      <td>y449</td>\n",
       "      <td>Ramicane</td>\n",
       "      <td>44.183451</td>\n",
       "      <td>15</td>\n",
       "    </tr>\n",
       "    <tr>\n",
       "      <th>23</th>\n",
       "      <td>r811</td>\n",
       "      <td>Ramicane</td>\n",
       "      <td>37.225650</td>\n",
       "      <td>45</td>\n",
       "    </tr>\n",
       "    <tr>\n",
       "      <th>0</th>\n",
       "      <td>k403</td>\n",
       "      <td>Ramicane</td>\n",
       "      <td>22.050126</td>\n",
       "      <td>45</td>\n",
       "    </tr>\n",
       "  </tbody>\n",
       "</table>\n",
       "<p>100 rows × 4 columns</p>\n",
       "</div>"
      ],
      "text/plain": [
       "   Mouse ID Drug Regimen  Final Tumor Vol  Final Time point\n",
       "32     j246    Capomulin        38.753265                35\n",
       "36     v923    Capomulin        40.658124                45\n",
       "35     w150    Capomulin        39.952347                10\n",
       "34     j119    Capomulin        38.125164                45\n",
       "39     l509    Capomulin        41.483008                45\n",
       "..      ...          ...              ...               ...\n",
       "46     r921     Ramicane        43.419381                30\n",
       "47     w678     Ramicane        43.166373                 5\n",
       "48     y449     Ramicane        44.183451                15\n",
       "23     r811     Ramicane        37.225650                45\n",
       "0      k403     Ramicane        22.050126                45\n",
       "\n",
       "[100 rows x 4 columns]"
      ]
     },
     "execution_count": 81,
     "metadata": {},
     "output_type": "execute_result"
    }
   ],
   "source": [
    "# Calculate the final tumor volume of each mouse across four of the treatment regimens:  \n",
    "# Capomulin, Ramicane, Infubinol, and Ceftamin\n",
    "\n",
    "# Create a new df of just the promising treatments \n",
    "df2 = df[(df['Drug Regimen'] == 'Capomulin') |\n",
    "         (df['Drug Regimen'] == 'Ramicane') |\n",
    "         (df['Drug Regimen'] == 'Infubinol') |\n",
    "         (df['Drug Regimen'] == 'Ceftamin')]\n",
    "\n",
    "final_timepoint = []\n",
    "final_vol = []\n",
    "treatment = []\n",
    "\n",
    "# Create a df with Mouse ID, Drug Regimen, Final tumor volume and final time point for each mouse\n",
    "for mouse in df2[\"Mouse ID\"].unique():\n",
    "    data = df2[df2['Mouse ID'] == mouse]\n",
    "    final_vol.append(data.iloc[-1, 6])\n",
    "    final_timepoint.append(data.iloc[-1, 5])\n",
    "    treatment.append(data.iloc[-1, 1])\n",
    "    \n",
    "drug_data = pd.DataFrame({\"Mouse ID\":df2[\"Mouse ID\"].unique(),\n",
    "                         \"Drug Regimen\":treatment,\n",
    "                         \"Final Tumor Vol\":final_vol,\n",
    "                         \"Final Time point\":final_timepoint})\n",
    "\n",
    "drug_data.sort_values(by=\"Drug Regimen\", inplace=True)\n",
    "drug_data\n"
   ]
  },
  {
   "cell_type": "code",
   "execution_count": 106,
   "metadata": {
    "scrolled": true
   },
   "outputs": [
    {
     "data": {
      "text/html": [
       "<div>\n",
       "<style scoped>\n",
       "    .dataframe tbody tr th:only-of-type {\n",
       "        vertical-align: middle;\n",
       "    }\n",
       "\n",
       "    .dataframe tbody tr th {\n",
       "        vertical-align: top;\n",
       "    }\n",
       "\n",
       "    .dataframe thead th {\n",
       "        text-align: right;\n",
       "    }\n",
       "</style>\n",
       "<table border=\"1\" class=\"dataframe\">\n",
       "  <thead>\n",
       "    <tr style=\"text-align: right;\">\n",
       "      <th></th>\n",
       "      <th>Lower Quartile</th>\n",
       "      <th>Upper Quartile</th>\n",
       "      <th>IQR</th>\n",
       "      <th>Median</th>\n",
       "      <th>Lower Bound</th>\n",
       "      <th>Upper Bound</th>\n",
       "    </tr>\n",
       "  </thead>\n",
       "  <tbody>\n",
       "    <tr>\n",
       "      <th>Capomulin</th>\n",
       "      <td>32.3774</td>\n",
       "      <td>40.1592</td>\n",
       "      <td>7.78186</td>\n",
       "      <td>38.1252</td>\n",
       "      <td>20.7046</td>\n",
       "      <td>51.832</td>\n",
       "    </tr>\n",
       "    <tr>\n",
       "      <th>Ceftamin</th>\n",
       "      <td>48.7221</td>\n",
       "      <td>64.2998</td>\n",
       "      <td>15.5778</td>\n",
       "      <td>59.852</td>\n",
       "      <td>25.3554</td>\n",
       "      <td>87.6665</td>\n",
       "    </tr>\n",
       "    <tr>\n",
       "      <th>Infubinol</th>\n",
       "      <td>54.0486</td>\n",
       "      <td>65.5257</td>\n",
       "      <td>11.4771</td>\n",
       "      <td>60.1652</td>\n",
       "      <td>36.8329</td>\n",
       "      <td>82.7414</td>\n",
       "    </tr>\n",
       "    <tr>\n",
       "      <th>Ramicane</th>\n",
       "      <td>31.5605</td>\n",
       "      <td>40.659</td>\n",
       "      <td>9.09854</td>\n",
       "      <td>36.5617</td>\n",
       "      <td>17.9127</td>\n",
       "      <td>54.3068</td>\n",
       "    </tr>\n",
       "  </tbody>\n",
       "</table>\n",
       "</div>"
      ],
      "text/plain": [
       "          Lower Quartile Upper Quartile      IQR   Median Lower Bound  \\\n",
       "Capomulin        32.3774        40.1592  7.78186  38.1252     20.7046   \n",
       "Ceftamin         48.7221        64.2998  15.5778   59.852     25.3554   \n",
       "Infubinol        54.0486        65.5257  11.4771  60.1652     36.8329   \n",
       "Ramicane         31.5605         40.659  9.09854  36.5617     17.9127   \n",
       "\n",
       "          Upper Bound  \n",
       "Capomulin      51.832  \n",
       "Ceftamin      87.6665  \n",
       "Infubinol     82.7414  \n",
       "Ramicane      54.3068  "
      ]
     },
     "metadata": {},
     "output_type": "display_data"
    },
    {
     "name": "stdout",
     "output_type": "stream",
     "text": [
      "Empty DataFrame\n",
      "Columns: [Mouse ID, Drug Regimen, Final Tumor Vol, Final Time point]\n",
      "Index: []\n",
      "   Mouse ID Drug Regimen  Final Tumor Vol  Final Time point\n",
      "58     c326    Infubinol        36.321346                 5\n"
     ]
    },
    {
     "data": {
      "text/html": [
       "<div>\n",
       "<style scoped>\n",
       "    .dataframe tbody tr th:only-of-type {\n",
       "        vertical-align: middle;\n",
       "    }\n",
       "\n",
       "    .dataframe tbody tr th {\n",
       "        vertical-align: top;\n",
       "    }\n",
       "\n",
       "    .dataframe thead th {\n",
       "        text-align: right;\n",
       "    }\n",
       "</style>\n",
       "<table border=\"1\" class=\"dataframe\">\n",
       "  <thead>\n",
       "    <tr style=\"text-align: right;\">\n",
       "      <th></th>\n",
       "      <th>Mouse ID</th>\n",
       "      <th>Drug Regimen</th>\n",
       "      <th>Final Tumor Vol</th>\n",
       "      <th>Final Time point</th>\n",
       "    </tr>\n",
       "  </thead>\n",
       "  <tbody>\n",
       "  </tbody>\n",
       "</table>\n",
       "</div>"
      ],
      "text/plain": [
       "Empty DataFrame\n",
       "Columns: [Mouse ID, Drug Regimen, Final Tumor Vol, Final Time point]\n",
       "Index: []"
      ]
     },
     "metadata": {},
     "output_type": "display_data"
    }
   ],
   "source": [
    "# Put treatments into a list for for loop (and later for plot labels)\n",
    "treatments = drug_data['Drug Regimen'].unique()\n",
    "\n",
    "drug_quartiles = pd.DataFrame(columns=(\"Lower Quartile\", \"Upper Quartile\", \"IQR\", \"Median\", \n",
    "                                       \"Lower Bound\", \"Upper Bound\"), index=treatments)\n",
    "\n",
    "    \n",
    "for drug in treatments:\n",
    "    data = drug_data[drug_data['Drug Regimen'] == drug]\n",
    "    median = data['Final Tumor Vol'].median()\n",
    "    quartiles = data['Final Tumor Vol'].quantile([.25,.5,.75])\n",
    "    iqr = quartiles[0.75] - quartiles[0.25]\n",
    "    \n",
    "    drug_quartiles.loc[drug, \"Median\"] = data['Final Tumor Vol'].median()\n",
    "    drug_quartiles.loc[drug, \"Lower Quartile\"] = quartiles[0.25]\n",
    "    drug_quartiles.loc[drug, \"Upper Quartile\"] = quartiles[0.75]\n",
    "    drug_quartiles.loc[drug, \"IQR\"] = iqr\n",
    "    drug_quartiles.loc[drug, \"Lower Bound\"] = quartiles[0.25] - (1.5*iqr)\n",
    "    drug_quartiles.loc[drug, \"Upper Bound\"] = quartiles[0.75] + (1.5*iqr) \n",
    "   \n",
    "display(drug_quartiles)\n",
    "\n",
    "    \n",
    "# Determine outliers using upper and lower bounds\n",
    "# Create empty df to store outlier data\n",
    "outliers = pd.DataFrame(columns=drug_data.columns)\n",
    "print(outliers)\n",
    "\n",
    "# Iterate through mice, checking if final tumor volume is an outlier\n",
    "for mouse in drug_data['Mouse ID'].unique():\n",
    "    mouse_data = drug_data[drug_data['Mouse ID'] == mouse] # get mouses data\n",
    "    treatment = mouse_data.iloc[-1, 1] # get which drug regimen mouse was on\n",
    "\n",
    "    # Check for outliers in the mouse final tumor vol is an outlier \n",
    "    #    --final tumor vol--            --upper bound--                            --final tumor vol--            --lower bound--        \n",
    "    if (mouse_data.iloc[0,2] > drug_quartiles.loc[treatment, \"Upper Bound\"]) | (mouse_data.iloc[0,2] < drug_quartiles.loc[treatment, \"Lower Bound\"]): \n",
    "        print(mouse_data)\n",
    "                   \n",
    "display(outliers)\n",
    "    "
   ]
  },
  {
   "cell_type": "code",
   "execution_count": 101,
   "metadata": {},
   "outputs": [
    {
     "data": {
      "text/plain": [
       "<matplotlib.axes._subplots.AxesSubplot at 0x17ec848e3c8>"
      ]
     },
     "execution_count": 101,
     "metadata": {},
     "output_type": "execute_result"
    },
    {
     "data": {
      "image/png": "[encoded data removed]",
      "text/plain": [
       "<Figure size 432x288 with 1 Axes>"
      ]
     },
     "metadata": {
      "needs_background": "light"
     },
     "output_type": "display_data"
    }
   ],
   "source": [
    "# Generate a box plot of the final tumor volume of each mouse across four regimens of interest\n",
    "\n",
    "\n",
    "# fig1, ax1 = plt.subplots()\n",
    "plot_data = drug_data[['Drug Regimen', 'Final Tumor Vol']]\n",
    "\n",
    "plot_data.boxplot(by=\"Drug Regimen\", grid=False)\n",
    "\n",
    "# ax1.set_title('Temperatures at LAX')\n",
    "# ax1.set_ylabel('Temperature (°C)')\n",
    "# plt.show()\n"
   ]
  },
  {
   "cell_type": "markdown",
   "metadata": {},
   "source": [
    "## Line and Scatter Plots"
   ]
  },
  {
   "cell_type": "code",
   "execution_count": null,
   "metadata": {},
   "outputs": [],
   "source": [
    "# Generate a line plot of time point versus tumor volume for a mouse treated with Capomulin\n"
   ]
  },
  {
   "cell_type": "code",
   "execution_count": null,
   "metadata": {},
   "outputs": [],
   "source": [
    "# Generate a scatter plot of mouse weight versus average tumor volume for the Capomulin regimen\n"
   ]
  },
  {
   "cell_type": "markdown",
   "metadata": {},
   "source": [
    "## Correlation and Regression"
   ]
  },
  {
   "cell_type": "code",
   "execution_count": null,
   "metadata": {},
   "outputs": [],
   "source": [
    "# Calculate the correlation coefficient and linear regression model \n",
    "# for mouse weight and average tumor volume for the Capomulin regimen\n"
   ]
  },
  {
   "cell_type": "code",
   "execution_count": null,
   "metadata": {},
   "outputs": [],
   "source": []
  }
 ],
 "metadata": {
  "anaconda-cloud": {},
  "kernelspec": {
   "display_name": "Python 3",
   "language": "python",
   "name": "python3"
  },
  "language_info": {
   "codemirror_mode": {
    "name": "ipython",
    "version": 3
   },
   "file_extension": ".py",
   "mimetype": "text/x-python",
   "name": "python",
   "nbconvert_exporter": "python",
   "pygments_lexer": "ipython3",
   "version": "3.6.10"
  }
 },
 "nbformat": 4,
 "nbformat_minor": 2
}
